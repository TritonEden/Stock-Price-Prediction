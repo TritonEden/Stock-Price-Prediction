{
 "cells": [
  {
   "cell_type": "code",
   "execution_count": null,
   "metadata": {},
   "outputs": [],
   "source": []
  },
  {
   "cell_type": "code",
   "execution_count": 19,
   "metadata": {},
   "outputs": [
    {
     "name": "stdout",
     "output_type": "stream",
     "text": [
      "Linear Regressions Results:\n",
      "\tMean Squared Error (MSE): 8.421714955934368e-06\n",
      "\tR² Score: 0.9998465921344927\n"
     ]
    }
   ],
   "source": [
    "import pandas as pd\n",
    "from sklearn.preprocessing import MinMaxScaler\n",
    "from sklearn.model_selection import train_test_split\n",
    "from sklearn.linear_model import LinearRegression\n",
    "from sklearn.metrics import mean_squared_error, r2_score\n",
    "import numpy as np\n",
    "\n",
    "RANDOM_STATE = 42\n",
    "\n",
    "def normalize_data(file_path):\n",
    "    df = pd.read_csv(file_path)\n",
    "\n",
    "    # Convert Date column to datetime\n",
    "    df['Date'] = pd.to_datetime(df['Date'])\n",
    "\n",
    "    # Extract features that can be converted into a float for model training\n",
    "    df['Year'] = df['Date'].dt.year\n",
    "    df['Month'] = df['Date'].dt.month\n",
    "    df['Day'] = df['Date'].dt.day\n",
    "\n",
    "    # Drop the old Date column\n",
    "    df.drop('Date', axis=1, inplace=True)\n",
    "\n",
    "    # Logarithmic Scaling for Volume\n",
    "    df['Volume_log'] = np.log1p(df['Volume'])  # log1p handles zero values effectively\n",
    "\n",
    "    # Min-Max Scaling for Stock Prices (Open, High, Low, Close, Adj Close)\n",
    "    scaler = MinMaxScaler()\n",
    "    price_columns = ['Open', 'High', 'Low', 'Close', 'Adj Close']\n",
    "    df[price_columns] = scaler.fit_transform(df[price_columns])\n",
    "\n",
    "    return df\n",
    "\n",
    "# MSE cost calculation function to measure model performance\n",
    "def compute_cost(X, y, params):\n",
    "    n_samples = len(y)\n",
    "    h = X.dot(params)\n",
    "    return (1/(2*n_samples)) * np.sum((h - y)**2)\n",
    "\n",
    "def split_data(df):\n",
    "    # adjusted closing price \n",
    "    X = df.drop(columns=['Close', 'Adj Close'])\n",
    "    y = df['Adj Close']\n",
    "\n",
    "    # Split the remaining data into training and test sets, standard .8 train with .2 test\n",
    "    X_train, X_test, y_train, y_test = train_test_split(X, y, test_size=0.2, random_state=RANDOM_STATE)\n",
    "    return X_train, X_test, y_train, y_test\n",
    "\n",
    "def linear_regression_testing(X_train, X_test, y_train, y_test):\n",
    "    # Use linear regression model to predict the relationship between date, open price, high price, low price, to the adjusted closing price\n",
    "    model = LinearRegression()\n",
    "    model.fit(X_train, y_train)\n",
    "    predictions = model.predict(X_test)\n",
    "\n",
    "    # Evaluate model performance\n",
    "    mse = mean_squared_error(y_test, predictions)\n",
    "    r2 = r2_score(y_test, predictions)\n",
    "    # Print results\n",
    "    print(f\"Linear Regressions Results:\\n\\tMean Squared Error (MSE): {mse}\\n\\tR² Score: {r2}\")\n",
    "\n",
    "\n",
    "# Load and normalize the dataset\n",
    "file_path = './berkshire_hathaway_data.csv'\n",
    "df = normalize_data(file_path)\n",
    "X_train, X_test, y_train, y_test = split_data(df)\n",
    "linear_regression_testing(X_train, X_test, y_train, y_test)\n",
    "\n",
    "\n"
   ]
  }
 ],
 "metadata": {
  "kernelspec": {
   "display_name": "Machine_Learning",
   "language": "python",
   "name": "python3"
  },
  "language_info": {
   "codemirror_mode": {
    "name": "ipython",
    "version": 3
   },
   "file_extension": ".py",
   "mimetype": "text/x-python",
   "name": "python",
   "nbconvert_exporter": "python",
   "pygments_lexer": "ipython3",
   "version": "3.12.4"
  }
 },
 "nbformat": 4,
 "nbformat_minor": 2
}
