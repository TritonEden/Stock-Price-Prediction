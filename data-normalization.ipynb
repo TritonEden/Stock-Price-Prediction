{
 "cells": [
  {
   "cell_type": "code",
   "execution_count": null,
   "metadata": {},
   "outputs": [],
   "source": [
    "# Import libraries\n",
    "import pandas as pd\n",
    "from sklearn.preprocessing import MinMaxScaler\n",
    "import numpy as np\n",
    "\n",
    "# Load dataset (update the file path to match your Kaggle directory)\n",
    "file_path = './berkshire_hathaway_data.csv'\n",
    "df = pd.read_csv(file_path)\n",
    "\n",
    "# Display initial dataset structure\n",
    "print(\"Initial dataset:\")\n",
    "print(df.head())\n",
    "\n",
    "# Data Cleaning: Forward Fill for Missing Open and Close Values\n",
    "df[['Open', 'Close']] = df[['Open', 'Close']].fillna(method='ffill')\n",
    "\n",
    "# Logarithmic Scaling for Volume\n",
    "df['Volume_log'] = np.log1p(df['Volume'])  # log1p handles zero values effectively\n",
    "\n",
    "# Min-Max Scaling for Stock Prices (Open, High, Low, Close, Adj Close)\n",
    "scaler = MinMaxScaler()\n",
    "price_columns = ['Open', 'High', 'Low', 'Close', 'Adj Close']\n",
    "df[price_columns] = scaler.fit_transform(df[price_columns])\n",
    "\n",
    "# Display cleaned and normalized dataset\n",
    "print(\"\\nCleaned and normalized dataset:\")\n",
    "print(df.head())"
   ]
  },
  {
   "cell_type": "code",
   "execution_count": null,
   "metadata": {},
   "outputs": [],
   "source": []
  }
 ],
 "metadata": {
  "kernelspec": {
   "display_name": "Python 3",
   "language": "python",
   "name": "python3"
  },
  "language_info": {
   "name": "python",
   "version": "3.11.9"
  }
 },
 "nbformat": 4,
 "nbformat_minor": 2
}
